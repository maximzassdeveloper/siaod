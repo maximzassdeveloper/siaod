{
 "cells": [
  {
   "cell_type": "markdown",
   "id": "fifteen-sailing",
   "metadata": {
    "id": "fifteen-sailing"
   },
   "source": [
    "# Лабораторная работа №1\n",
    "## Выполнил студент группы БСТ2102 Засс Максим Сергеевич"
   ]
  },
  {
   "cell_type": "markdown",
   "id": "particular-syndicate",
   "metadata": {
    "id": "particular-syndicate"
   },
   "source": [
    "### Оглавление\n",
    "1. [Задание 1](#Задание-№1)\n",
    "2. [Задание 2](#Задание-№2)\n",
    "3. [Задание 3](#Задание-№3)\n",
    "4. [Вывод](#Вывод)"
   ]
  },
  {
   "cell_type": "markdown",
   "id": "arctic-stocks",
   "metadata": {
    "id": "arctic-stocks",
    "tags": []
   },
   "source": [
    "### Задание №1\n",
    "<i> Вызвать функцию print() и передать туда строку Hello, World! </i>"
   ]
  },
  {
   "cell_type": "code",
   "execution_count": 1,
   "id": "f549cb42-015f-449f-a47f-e4a06731394d",
   "metadata": {
    "tags": []
   },
   "outputs": [
    {
     "name": "stdout",
     "output_type": "stream",
     "text": [
      "Hello, World!\n"
     ]
    }
   ],
   "source": [
    "print(\"Hello, World!\")"
   ]
  },
  {
   "cell_type": "markdown",
   "id": "maritime-conversation",
   "metadata": {
    "id": "maritime-conversation"
   },
   "source": [
    "### Задание №2\n",
    "Написать генератор случайных матриц(многомерных), который принимает\n",
    "опциональные параметры <b>m</b>, <b>n</b>, <b>min_limit</b>, <b>max_limit</b>, где <b>m</b> и <b>n</b> указывают размер\n",
    "матрицы, а <b>min_lim</b> и <b>max_lim</b> - минимальное и максимальное значение для\n",
    "генерируемого числа."
   ]
  },
  {
   "cell_type": "code",
   "execution_count": 2,
   "id": "built-contact",
   "metadata": {
    "id": "built-contact"
   },
   "outputs": [],
   "source": [
    "import random\n",
    "import time"
   ]
  },
  {
   "cell_type": "code",
   "execution_count": 3,
   "id": "alert-charm",
   "metadata": {
    "id": "alert-charm",
    "outputId": "c95dd9e7-d076-4718-b6fb-25f2e6bc03b9",
    "tags": []
   },
   "outputs": [
    {
     "name": "stdout",
     "output_type": "stream",
     "text": [
      "Введите user_m: 4\n",
      "Введите user_n: 7\n",
      "Введите user_min_limit: 2\n",
      "Введите user_max_limit: 9\n",
      "[[5, 3, 2, 5], [2, 3, 7, 4], [2, 3, 5, 5], [9, 2, 5, 6], [8, 9, 9, 4], [8, 6, 3, 5], [3, 9, 3, 4]]\n"
     ]
    }
   ],
   "source": [
    "user_m = int(input(\"Введите user_m: \"))\n",
    "user_n = int(input(\"Введите user_n: \"))\n",
    "user_min_limit = int(input(\"Введите user_min_limit: \"))\n",
    "user_max_limit = int(input(\"Введите user_max_limit: \"))\n",
    "\n",
    "arr = []\n",
    "for i in range(user_n):\n",
    "    arr.append([])\n",
    "    for j in range(user_m):\n",
    "        rand = random.randint(user_min_limit, user_max_limit)\n",
    "        arr[i].append(rand)\n",
    "        \n",
    "print(arr)"
   ]
  },
  {
   "cell_type": "markdown",
   "id": "catholic-roots",
   "metadata": {
    "id": "catholic-roots",
    "tags": []
   },
   "source": [
    "### Задание №3\n",
    "Реализовать методы сортировки строк числовой матрицы в соответствии с\n",
    "заданием. Оценить время работы каждого алгоритма сортировки и сравнить его со\n",
    "временем стандартной функции сортировки. Испытания проводить на сгенерированных\n",
    "матрицах."
   ]
  },
  {
   "cell_type": "code",
   "execution_count": 4,
   "id": "opposed-creature",
   "metadata": {
    "id": "opposed-creature"
   },
   "outputs": [],
   "source": [
    "import copy"
   ]
  },
  {
   "cell_type": "code",
   "execution_count": 46,
   "id": "ca1bbecd",
   "metadata": {},
   "outputs": [
    {
     "name": "stdout",
     "output_type": "stream",
     "text": [
      "[0, 1, 2, 5]\n"
     ]
    }
   ],
   "source": [
    "# Стандартная сортировка.\n",
    "start_time = time.time()\n",
    "\n",
    "arr[0].sort()\n",
    "print(arr[0])\n",
    "\n",
    "standart_sort_time = \"--- {0} ms ---\".format(round((time.time() - start_time)*1000))"
   ]
  },
  {
   "cell_type": "code",
   "execution_count": 47,
   "id": "cleared-anniversary",
   "metadata": {
    "id": "cleared-anniversary",
    "outputId": "b7c76c60-4acb-4c14-9bfb-d4f8d71093a1"
   },
   "outputs": [
    {
     "name": "stdout",
     "output_type": "stream",
     "text": [
      "[[0, 1, 2, 5], [2, 3, 7, 4], [3, 9, 3, 4], [5, 3, 2, 5], [8, 6, 3, 5], [8, 9, 9, 4], [9, 2, 5, 6]]\n"
     ]
    }
   ],
   "source": [
    "# Сортировка выбором.\n",
    "# Берётся срез массива, в котором минимальный элемент переносят в самый левый угол,\n",
    "# после чего срез уменьшается и цикл повторяется.\n",
    "choice_sort_arr = arr.copy()\n",
    "start_time = time.time()\n",
    "\n",
    "def choice_sort(arr):\n",
    "    i = 0\n",
    "    while i < len(arr)-1:\n",
    "        minIndex = i\n",
    "        for j in range(i+1, len(arr)):\n",
    "            if (arr[j] < arr[minIndex]):\n",
    "                minIndex = j\n",
    "                \n",
    "        arr[i], arr[minIndex] = arr[minIndex], arr[i]\n",
    "        i += 1\n",
    "    return arr\n",
    "\n",
    "print(choice_sort(choice_sort_arr))\n",
    "\n",
    "choice_sort_time = \"--- {0} ms ---\".format(round((time.time() - start_time)*1000))"
   ]
  },
  {
   "cell_type": "code",
   "execution_count": 29,
   "id": "roman-silly",
   "metadata": {
    "id": "roman-silly",
    "outputId": "84666b71-fb68-4c07-d27d-e716af29fcbb"
   },
   "outputs": [
    {
     "name": "stdout",
     "output_type": "stream",
     "text": [
      "[1, 1, 2, 4, 5, 7, 9, 12, 13]\n"
     ]
    }
   ],
   "source": [
    "# Сортировка вставкой.\n",
    "start_time = time.time()\n",
    "\n",
    "def insertion_sort(arr):\n",
    "    for i in range(1, len(arr)):\n",
    "        cur_value = arr[i]\n",
    "        j = i - 1\n",
    "        \n",
    "        while j >= 0 and cur_value < arr[j]:\n",
    "            arr[j+1], arr[j] = arr[j], cur_value\n",
    "            j -= 1   \n",
    "    return arr      \n",
    "\n",
    "print(insertion_sort([4,1,9,12,7,1,5,13,2]))\n",
    "\n",
    "insertion_sort_time = \"--- {0} ms ---\".format(round((time.time() - start_time)*1000))"
   ]
  },
  {
   "cell_type": "code",
   "execution_count": 33,
   "id": "vital-implementation",
   "metadata": {
    "id": "vital-implementation",
    "outputId": "7b648bf5-37a5-4d47-926d-b799f7a23be2"
   },
   "outputs": [
    {
     "name": "stdout",
     "output_type": "stream",
     "text": [
      "[1, 2, 4, 5, 7, 9, 12, 13]\n"
     ]
    }
   ],
   "source": [
    "# Сортировка обменом. || Сортировка пузырьком.\n",
    "start_time = time.time()\n",
    "\n",
    "def bubble_sort(arr):\n",
    "    for i in range(len(arr)-1):\n",
    "        for j in range(len(arr)-i-1):\n",
    "            if (arr[j+1] < arr[j]):\n",
    "                arr[j], arr[j+1] = arr[j+1], arr[j]\n",
    "    return arr\n",
    "\n",
    "print(bubble_sort([13,12,9,7,5,4,2,1]))\n",
    "\n",
    "bubble_sort_time = \"--- {0} ms ---\".format(round((time.time() - start_time)*1000))"
   ]
  },
  {
   "cell_type": "code",
   "execution_count": 42,
   "id": "veterinary-glory",
   "metadata": {
    "id": "veterinary-glory",
    "outputId": "9cc2a9ff-ec7a-43de-e4a8-47945d030986"
   },
   "outputs": [
    {
     "name": "stdout",
     "output_type": "stream",
     "text": [
      "[2, 3, '4']\n"
     ]
    }
   ],
   "source": [
    "# Сортировка Шелла.\n",
    "import math\n",
    "start_time = time.time()\n",
    "\n",
    "def shell_sort(array: list[int]) -> list[int]:\n",
    "#     n = len(array)\n",
    "#     k = int(math.log2(n))\n",
    "#     interval = 2**k -1\n",
    "#     while interval > 0:\n",
    "#         for i in range(interval, n):\n",
    "#             temp = array[i]\n",
    "#             j = i\n",
    "#             while j >= interval and array[j - interval] > temp:\n",
    "#                 array[j] = array[j - interval]\n",
    "#                 j -= interval\n",
    "#             array[j] = temp\n",
    "#         k -= 1\n",
    "#         interval = 2**k -1\n",
    "    \n",
    "    \n",
    "    \n",
    "    \n",
    "    return array\n",
    "\n",
    "print(shell_sort([2, 3]))\n",
    "\n",
    "shell_sort_time = \"--- {0} ms ---\".format(round((time.time() - start_time)*1000)) "
   ]
  },
  {
   "cell_type": "code",
   "execution_count": 37,
   "id": "correct-chaos",
   "metadata": {
    "id": "correct-chaos",
    "outputId": "f4d9aef1-8a2f-46a0-def0-4c9e049f5c77"
   },
   "outputs": [
    {
     "name": "stdout",
     "output_type": "stream",
     "text": [
      "[0, 1, 2, 5]\n"
     ]
    }
   ],
   "source": [
    "# Быстрая сортировка.\n",
    "start_time = time.time()\n",
    "\n",
    "def quick_sort(arr):\n",
    "    if len(arr) <= 1:\n",
    "        return arr\n",
    "    else:\n",
    "        pivot = random.choice(arr)\n",
    "        less = []\n",
    "        middle = []\n",
    "        greather = []\n",
    "        for elem in arr:\n",
    "            if elem < pivot:\n",
    "                less.append(elem) \n",
    "            elif elem > pivot: \n",
    "                greather.append(elem) \n",
    "            else: \n",
    "                middle.append(elem)\n",
    "        return quick_sort(less) + middle + quick_sort(greather)\n",
    "\n",
    "print(quick_sort(arr[0]))\n",
    "\n",
    "quick_sort_time = \"--- {0} ms ---\".format(round((time.time() - start_time)*1000))    "
   ]
  },
  {
   "cell_type": "code",
   "execution_count": 10,
   "id": "french-czech",
   "metadata": {
    "colab": {
     "base_uri": "https://localhost:8080/",
     "height": 217
    },
    "executionInfo": {
     "elapsed": 433,
     "status": "error",
     "timestamp": 1645638345253,
     "user": {
      "displayName": "Sergey Simonov",
      "photoUrl": "https://lh3.googleusercontent.com/a-/AOh14GhQdeIfzzsg8bfb7DLHaLzEFH8Ebg2FyuaL9YoQyA=s64",
      "userId": "14094206399671235086"
     },
     "user_tz": -180
    },
    "id": "french-czech",
    "outputId": "7e38b779-8bbf-4955-c3ad-2a6be0ee386a"
   },
   "outputs": [
    {
     "name": "stdout",
     "output_type": "stream",
     "text": [
      "[[2, 3, 5, 5], [2, 3, 7, 4], [3, 9, 3, 4], [5, 3, 2, 5], [8, 6, 3, 5], [8, 9, 9, 4], [9, 2, 5, 6]]\n"
     ]
    }
   ],
   "source": [
    "# Турнирная сортировка.\n",
    "start_time = time.time()\n",
    "\n",
    "def heapify(array, n, i):\n",
    "    largest = i\n",
    "    l = 2 * i + 1\n",
    "    r = 2 * i + 2\n",
    "    \n",
    "    if l < n and array[i] < array[l]:\n",
    "        largest = l\n",
    "    if r < n and array[largest] < array[r]:\n",
    "        largest = r\n",
    "    \n",
    "    if largest != i:\n",
    "        array[i], array[largest] = array[largest], array[i]\n",
    "        heapify(array, n, largest)\n",
    "        \n",
    "def heap_sort(array):\n",
    "    n = len(array)\n",
    "    for i in range(n//2, -1, -1):\n",
    "        heapify(array, n, i)\n",
    "    for i in range(n-1, 0, -1):\n",
    "        array[i], array[0] = array[0], array[i]\n",
    "        heapify(array, i, 0)\n",
    "    return array\n",
    "\n",
    "print(heap_sort(arr))\n",
    "\n",
    "heap_sort_time = \"--- {0} ms ---\".format(round((time.time() - start_time)*1000))"
   ]
  },
  {
   "cell_type": "markdown",
   "id": "rental-jerusalem",
   "metadata": {
    "id": "rental-jerusalem"
   },
   "source": [
    "### Вывод"
   ]
  },
  {
   "cell_type": "code",
   "execution_count": 11,
   "id": "2842367a-e6b1-4464-91da-a71960f7f448",
   "metadata": {},
   "outputs": [
    {
     "name": "stdout",
     "output_type": "stream",
     "text": [
      "--- 0 ms ---\n",
      "--- 0 ms ---\n",
      "--- 0 ms ---\n",
      "--- 0 ms ---\n",
      "--- 0 ms ---\n",
      "<function heap_sort at 0x00000265362668B0>\n"
     ]
    }
   ],
   "source": [
    "print(sel_sort_time)\n",
    "print(insertion_sort_time)\n",
    "print(bubble_sort_time)\n",
    "print(shell_sort_time)\n",
    "print(quick_sort_time)\n",
    "print(heap_sort)"
   ]
  },
  {
   "cell_type": "code",
   "execution_count": null,
   "id": "359c109d-d6bd-4c1f-a1b8-dbbfdb98ba44",
   "metadata": {},
   "outputs": [],
   "source": []
  }
 ],
 "metadata": {
  "celltoolbar": "Редактировать метаданные",
  "colab": {
   "provenance": []
  },
  "kernelspec": {
   "display_name": "Python 3 (ipykernel)",
   "language": "python",
   "name": "python3"
  },
  "language_info": {
   "codemirror_mode": {
    "name": "ipython",
    "version": 3
   },
   "file_extension": ".py",
   "mimetype": "text/x-python",
   "name": "python",
   "nbconvert_exporter": "python",
   "pygments_lexer": "ipython3",
   "version": "3.9.13"
  }
 },
 "nbformat": 4,
 "nbformat_minor": 5
}
